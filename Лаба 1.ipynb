{
 "cells": [
  {
   "cell_type": "code",
   "execution_count": 19,
   "metadata": {},
   "outputs": [],
   "source": [
    "import numpy as np\n",
    "import matplotlib.pyplot as plt\n",
    "import random\n",
    "import math\n",
    "import json\n",
    "import csv"
   ]
  },
  {
   "cell_type": "markdown",
   "metadata": {},
   "source": [
    "Часть 1."
   ]
  },
  {
   "cell_type": "markdown",
   "metadata": {},
   "source": [
    "№1"
   ]
  },
  {
   "cell_type": "code",
   "execution_count": 21,
   "metadata": {},
   "outputs": [
    {
     "name": "stdout",
     "output_type": "stream",
     "text": [
      "sweater Russia 2010 85\n",
      "sweater Russia 2011 10\n",
      "sweater Russia 2012 104\n",
      "sweater Russia 2013 59\n",
      "sweater Russia 2014 113\n",
      "sweater Russia 2015 21\n",
      "sweater Russia 2016 23\n",
      "sweater Russia 2017 94\n",
      "sweater Russia 2018 134\n",
      "sweater Russia 2019 152\n",
      "sweater Belarus 2010 34\n",
      "sweater Belarus 2011 87\n",
      "sweater Belarus 2012 91\n",
      "sweater Belarus 2013 71\n",
      "sweater Belarus 2014 44\n",
      "sweater Belarus 2015 61\n",
      "sweater Belarus 2016 124\n",
      "sweater Belarus 2017 82\n",
      "sweater Belarus 2018 33\n",
      "sweater Belarus 2019 85\n",
      "sweater Ukraine 2010 53\n",
      "sweater Ukraine 2011 39\n",
      "sweater Ukraine 2012 32\n",
      "sweater Ukraine 2013 102\n",
      "sweater Ukraine 2014 121\n",
      "sweater Ukraine 2015 103\n",
      "sweater Ukraine 2016 100\n",
      "sweater Ukraine 2017 64\n",
      "sweater Ukraine 2018 49\n",
      "sweater Ukraine 2019 143\n",
      "sweater Lithuania 2010 100\n",
      "sweater Lithuania 2011 34\n",
      "sweater Lithuania 2012 75\n",
      "sweater Lithuania 2013 151\n",
      "sweater Lithuania 2014 26\n",
      "sweater Lithuania 2015 76\n",
      "sweater Lithuania 2016 150\n",
      "sweater Lithuania 2017 21\n",
      "sweater Lithuania 2018 114\n",
      "sweater Lithuania 2019 18\n",
      "sweater Latvia 2010 70\n",
      "sweater Latvia 2011 156\n",
      "sweater Latvia 2012 70\n",
      "sweater Latvia 2013 39\n",
      "sweater Latvia 2014 130\n",
      "sweater Latvia 2015 87\n",
      "sweater Latvia 2016 36\n",
      "sweater Latvia 2017 85\n",
      "sweater Latvia 2018 68\n",
      "sweater Latvia 2019 33\n",
      "sneakers Russia 2010 27\n",
      "sneakers Russia 2011 143\n",
      "sneakers Russia 2012 109\n",
      "sneakers Russia 2013 52\n",
      "sneakers Russia 2014 39\n",
      "sneakers Russia 2015 116\n",
      "sneakers Russia 2016 85\n",
      "sneakers Russia 2017 148\n",
      "sneakers Russia 2018 154\n",
      "sneakers Russia 2019 69\n",
      "sneakers Belarus 2010 156\n",
      "sneakers Belarus 2011 112\n",
      "sneakers Belarus 2012 111\n",
      "sneakers Belarus 2013 16\n",
      "sneakers Belarus 2014 132\n",
      "sneakers Belarus 2015 46\n",
      "sneakers Belarus 2016 52\n",
      "sneakers Belarus 2017 40\n",
      "sneakers Belarus 2018 65\n",
      "sneakers Belarus 2019 74\n",
      "sneakers Ukraine 2010 158\n",
      "sneakers Ukraine 2011 48\n",
      "sneakers Ukraine 2012 98\n",
      "sneakers Ukraine 2013 18\n",
      "sneakers Ukraine 2014 121\n",
      "sneakers Ukraine 2015 55\n",
      "sneakers Ukraine 2016 139\n",
      "sneakers Ukraine 2017 19\n",
      "sneakers Ukraine 2018 151\n",
      "sneakers Ukraine 2019 69\n",
      "sneakers Lithuania 2010 155\n",
      "sneakers Lithuania 2011 49\n",
      "sneakers Lithuania 2012 81\n",
      "sneakers Lithuania 2013 46\n",
      "sneakers Lithuania 2014 155\n",
      "sneakers Lithuania 2015 106\n",
      "sneakers Lithuania 2016 65\n",
      "sneakers Lithuania 2017 118\n",
      "sneakers Lithuania 2018 49\n",
      "sneakers Lithuania 2019 17\n",
      "sneakers Latvia 2010 16\n",
      "sneakers Latvia 2011 147\n",
      "sneakers Latvia 2012 105\n",
      "sneakers Latvia 2013 50\n",
      "sneakers Latvia 2014 97\n",
      "sneakers Latvia 2015 129\n",
      "sneakers Latvia 2016 82\n",
      "sneakers Latvia 2017 90\n",
      "sneakers Latvia 2018 77\n",
      "sneakers Latvia 2019 19\n",
      "hoodie Russia 2010 46\n",
      "hoodie Russia 2011 23\n",
      "hoodie Russia 2012 15\n",
      "hoodie Russia 2013 88\n",
      "hoodie Russia 2014 121\n",
      "hoodie Russia 2015 144\n",
      "hoodie Russia 2016 107\n",
      "hoodie Russia 2017 14\n",
      "hoodie Russia 2018 37\n",
      "hoodie Russia 2019 83\n",
      "hoodie Belarus 2010 126\n",
      "hoodie Belarus 2011 42\n",
      "hoodie Belarus 2012 82\n",
      "hoodie Belarus 2013 30\n",
      "hoodie Belarus 2014 51\n",
      "hoodie Belarus 2015 24\n",
      "hoodie Belarus 2016 82\n",
      "hoodie Belarus 2017 157\n",
      "hoodie Belarus 2018 70\n",
      "hoodie Belarus 2019 138\n",
      "hoodie Ukraine 2010 68\n",
      "hoodie Ukraine 2011 97\n",
      "hoodie Ukraine 2012 93\n",
      "hoodie Ukraine 2013 108\n",
      "hoodie Ukraine 2014 83\n",
      "hoodie Ukraine 2015 75\n",
      "hoodie Ukraine 2016 70\n",
      "hoodie Ukraine 2017 42\n",
      "hoodie Ukraine 2018 94\n",
      "hoodie Ukraine 2019 112\n",
      "hoodie Lithuania 2010 93\n",
      "hoodie Lithuania 2011 95\n",
      "hoodie Lithuania 2012 151\n",
      "hoodie Lithuania 2013 93\n",
      "hoodie Lithuania 2014 16\n",
      "hoodie Lithuania 2015 144\n",
      "hoodie Lithuania 2016 99\n",
      "hoodie Lithuania 2017 140\n",
      "hoodie Lithuania 2018 44\n",
      "hoodie Lithuania 2019 47\n",
      "hoodie Latvia 2010 65\n",
      "hoodie Latvia 2011 122\n",
      "hoodie Latvia 2012 68\n",
      "hoodie Latvia 2013 157\n",
      "hoodie Latvia 2014 54\n",
      "hoodie Latvia 2015 29\n",
      "hoodie Latvia 2016 156\n",
      "hoodie Latvia 2017 50\n",
      "hoodie Latvia 2018 76\n",
      "hoodie Latvia 2019 17\n",
      "jeans Russia 2010 148\n",
      "jeans Russia 2011 23\n",
      "jeans Russia 2012 130\n",
      "jeans Russia 2013 103\n",
      "jeans Russia 2014 50\n",
      "jeans Russia 2015 11\n",
      "jeans Russia 2016 72\n",
      "jeans Russia 2017 92\n",
      "jeans Russia 2018 159\n",
      "jeans Russia 2019 50\n",
      "jeans Belarus 2010 44\n",
      "jeans Belarus 2011 75\n",
      "jeans Belarus 2012 147\n",
      "jeans Belarus 2013 152\n",
      "jeans Belarus 2014 71\n",
      "jeans Belarus 2015 90\n",
      "jeans Belarus 2016 149\n",
      "jeans Belarus 2017 125\n",
      "jeans Belarus 2018 112\n",
      "jeans Belarus 2019 72\n",
      "jeans Ukraine 2010 32\n",
      "jeans Ukraine 2011 23\n",
      "jeans Ukraine 2012 62\n",
      "jeans Ukraine 2013 80\n",
      "jeans Ukraine 2014 29\n",
      "jeans Ukraine 2015 113\n",
      "jeans Ukraine 2016 93\n",
      "jeans Ukraine 2017 79\n",
      "jeans Ukraine 2018 15\n",
      "jeans Ukraine 2019 149\n",
      "jeans Lithuania 2010 83\n",
      "jeans Lithuania 2011 129\n",
      "jeans Lithuania 2012 37\n",
      "jeans Lithuania 2013 71\n",
      "jeans Lithuania 2014 37\n",
      "jeans Lithuania 2015 89\n",
      "jeans Lithuania 2016 80\n",
      "jeans Lithuania 2017 15\n",
      "jeans Lithuania 2018 72\n",
      "jeans Lithuania 2019 88\n",
      "jeans Latvia 2010 49\n",
      "jeans Latvia 2011 81\n",
      "jeans Latvia 2012 117\n",
      "jeans Latvia 2013 112\n",
      "jeans Latvia 2014 160\n",
      "jeans Latvia 2015 20\n",
      "jeans Latvia 2016 22\n",
      "jeans Latvia 2017 26\n",
      "jeans Latvia 2018 15\n",
      "jeans Latvia 2019 49\n",
      "t-shirt Russia 2010 118\n",
      "t-shirt Russia 2011 141\n",
      "t-shirt Russia 2012 101\n",
      "t-shirt Russia 2013 116\n",
      "t-shirt Russia 2014 154\n",
      "t-shirt Russia 2015 118\n",
      "t-shirt Russia 2016 69\n",
      "t-shirt Russia 2017 117\n",
      "t-shirt Russia 2018 85\n",
      "t-shirt Russia 2019 142\n",
      "t-shirt Belarus 2010 114\n",
      "t-shirt Belarus 2011 66\n",
      "t-shirt Belarus 2012 50\n",
      "t-shirt Belarus 2013 17\n",
      "t-shirt Belarus 2014 22\n",
      "t-shirt Belarus 2015 34\n",
      "t-shirt Belarus 2016 40\n",
      "t-shirt Belarus 2017 62\n",
      "t-shirt Belarus 2018 127\n",
      "t-shirt Belarus 2019 43\n",
      "t-shirt Ukraine 2010 160\n",
      "t-shirt Ukraine 2011 11\n",
      "t-shirt Ukraine 2012 141\n",
      "t-shirt Ukraine 2013 122\n",
      "t-shirt Ukraine 2014 106\n",
      "t-shirt Ukraine 2015 135\n",
      "t-shirt Ukraine 2016 65\n",
      "t-shirt Ukraine 2017 124\n",
      "t-shirt Ukraine 2018 137\n",
      "t-shirt Ukraine 2019 10\n",
      "t-shirt Lithuania 2010 27\n",
      "t-shirt Lithuania 2011 59\n",
      "t-shirt Lithuania 2012 37\n",
      "t-shirt Lithuania 2013 72\n",
      "t-shirt Lithuania 2014 124\n",
      "t-shirt Lithuania 2015 159\n",
      "t-shirt Lithuania 2016 17\n",
      "t-shirt Lithuania 2017 159\n",
      "t-shirt Lithuania 2018 101\n",
      "t-shirt Lithuania 2019 114\n",
      "t-shirt Latvia 2010 57\n",
      "t-shirt Latvia 2011 111\n",
      "t-shirt Latvia 2012 98\n",
      "t-shirt Latvia 2013 53\n",
      "t-shirt Latvia 2014 49\n",
      "t-shirt Latvia 2015 138\n",
      "t-shirt Latvia 2016 100\n",
      "t-shirt Latvia 2017 37\n",
      "t-shirt Latvia 2018 59\n",
      "t-shirt Latvia 2019 79\n"
     ]
    }
   ],
   "source": [
    "with open(\"sales.json\", \"r\") as sales:\n",
    "    data = json.load(sales)\n",
    "titles = ['item', 'country', 'year', 'sales']\n",
    "with open('sales.csv', 'w') as f: \n",
    "    wr = csv.DictWriter(f, fieldnames = titles) \n",
    "    wr.writeheader() \n",
    "    for item in data:\n",
    "        countrys = item[\"sales_by_country\"]\n",
    "        for country in countrys:\n",
    "            years = countrys[country]\n",
    "            for year in years: \n",
    "                print(item['item'],country, year,item['sales_by_country'][country][year])\n",
    "                wr.writerow({'item':item['item'],'country':country,'year':year,'sales':item['sales_by_country'][country][year]})\n"
   ]
  },
  {
   "cell_type": "markdown",
   "metadata": {},
   "source": [
    "Часть 2."
   ]
  },
  {
   "cell_type": "markdown",
   "metadata": {},
   "source": [
    "№1 "
   ]
  },
  {
   "cell_type": "code",
   "execution_count": 29,
   "metadata": {
    "scrolled": true
   },
   "outputs": [
    {
     "name": "stdout",
     "output_type": "stream",
     "text": [
      "x =  [0.7953917  0.57282624 0.23142021]\n",
      "w =  [0.04326136 0.31678563 0.17977237]\n",
      "b =  0.08990213648931256\n",
      "f =  0.3473779476034925\n"
     ]
    }
   ],
   "source": [
    "x, w = np.random.uniform(0,1,size=(2,3))\n",
    "b = random.random()\n",
    "f = np.dot(x,w)+b\n",
    "print('x = ', x)  \n",
    "print('w = ', w)\n",
    "print('b = ', b)  \n",
    "print('f = ', f)"
   ]
  },
  {
   "cell_type": "markdown",
   "metadata": {},
   "source": [
    "№2"
   ]
  },
  {
   "cell_type": "code",
   "execution_count": 18,
   "metadata": {},
   "outputs": [
    {
     "data": {
      "image/png": "[encoded data removed]",
      "text/plain": [
       "<Figure size 432x288 with 1 Axes>"
      ]
     },
     "metadata": {
      "needs_background": "light"
     },
     "output_type": "display_data"
    }
   ],
   "source": [
    "x = np.linspace(-5, 5)\n",
    "f = x - x**3/6 + x**5/120 - x**7/5040\n",
    "g = np.sin(x)\n",
    "plt.plot(x,g, label='функция синуса')\n",
    "plt.plot(x,f, label='функция f')\n",
    "plt.legend()\n",
    "plt.show()"
   ]
  },
  {
   "cell_type": "markdown",
   "metadata": {},
   "source": [
    "№3"
   ]
  },
  {
   "cell_type": "code",
   "execution_count": 27,
   "metadata": {},
   "outputs": [
    {
     "name": "stdout",
     "output_type": "stream",
     "text": [
      "r =  0.28714751486522816\n"
     ]
    },
    {
     "data": {
      "image/png": "[encoded data removed]",
      "text/plain": [
       "<Figure size 432x288 with 1 Axes>"
      ]
     },
     "metadata": {
      "needs_background": "light"
     },
     "output_type": "display_data"
    }
   ],
   "source": [
    "r = random.random()\n",
    "fig = plt.figure()\n",
    "ax = fig.add_subplot(111)\n",
    "ax.set_aspect(1) \n",
    "circle = plt.Circle((0.5 ,0.5), r) \n",
    "print('r = ', r)\n",
    "ax.add_artist(circle) \n",
    "plt.show()"
   ]
  },
  {
   "cell_type": "markdown",
   "metadata": {},
   "source": [
    "№5"
   ]
  },
  {
   "cell_type": "code",
   "execution_count": 24,
   "metadata": {},
   "outputs": [
    {
     "data": {
      "image/png": "[encoded data removed]",
      "text/plain": [
       "<Figure size 432x288 with 1 Axes>"
      ]
     },
     "metadata": {
      "needs_background": "light"
     },
     "output_type": "display_data"
    },
    {
     "data": {
      "image/png": "[encoded data removed]",
      "text/plain": [
       "<Figure size 432x288 with 1 Axes>"
      ]
     },
     "metadata": {
      "needs_background": "light"
     },
     "output_type": "display_data"
    }
   ],
   "source": [
    "a = random.randrange(2,10,1)\n",
    "b = random.randrange(2,10,1)\n",
    "x = np.linspace(a,b)\n",
    "f = x**4+6-4*x\n",
    "dx = x[1]-x[0]\n",
    "df = np.gradient(f, dx)\n",
    "plt.plot(x, f, label='Изначальная функция')\n",
    "plt.legend()\n",
    "plt.show()\n",
    "plt.plot(x,  df, label='Производная')\n",
    "plt.legend()\n",
    "plt.show()"
   ]
  },
  {
   "cell_type": "markdown",
   "metadata": {},
   "source": [
    "№6"
   ]
  },
  {
   "cell_type": "code",
   "execution_count": 84,
   "metadata": {},
   "outputs": [
    {
     "name": "stdout",
     "output_type": "stream",
     "text": [
      "7.430393970761187\n",
      "5.872221877219237\n",
      "45.54234944996239\n",
      "35.082035763378734\n",
      "пропорция векторов v в V, для которых угол(v,q) < 90 градусов =  1.0\n",
      "пропорция векторов v в V, для которых угол(v,q) < 30 градусов =  0.5\n"
     ]
    }
   ],
   "source": [
    "nintyDeg = 0\n",
    "thirtyDeg = 0\n",
    "d = random.randrange(2,6,1)\n",
    "k = random.randrange(2,10,1)\n",
    "V = np.random.uniform(0,100,size=(k,d))\n",
    "q = np.random.uniform(0,100,size=d)\n",
    "\n",
    "for v in V: \n",
    "    cos = np.dot(q,v)/((math.sqrt(sum(vi ** 2 for vi in v)))*(math.sqrt(sum(qi ** 2 for qi in q))))\n",
    "    arccos = math.acos(cos)\n",
    "    fi = math.degrees(arccos)\n",
    "    print(fi)\n",
    "    if (fi < 90):\n",
    "        nintyDeg+=1\n",
    "    if (fi < 30):\n",
    "        thirtyDeg+=1\n",
    "print ('пропорция векторов v в V, для которых угол(v,q) < 90 градусов = ', nintyDeg/k)\n",
    "print ('пропорция векторов v в V, для которых угол(v,q) < 30 градусов = ', thirtyDeg/k)"
   ]
  },
  {
   "cell_type": "markdown",
   "metadata": {},
   "source": [
    "№8"
   ]
  },
  {
   "cell_type": "code",
   "execution_count": 16,
   "metadata": {},
   "outputs": [
    {
     "name": "stdout",
     "output_type": "stream",
     "text": [
      "[[ 1.403505    0.68728703]\n",
      " [-0.85218618  0.72674305]\n",
      " [-0.55131882 -1.41403008]]\n",
      "[0. 0.]\n",
      "[[40.73752372 69.25968199]\n",
      " [ 4.61458583 69.60681934]\n",
      " [ 9.43271573 50.77211815]]\n",
      "[[ 1.403505    0.68728703]\n",
      " [-0.85218618  0.72674305]\n",
      " [-0.55131882 -1.41403008]]\n",
      "69.60681933977668\n",
      "50.77211814695614\n"
     ]
    },
    {
     "data": {
      "image/png": "[encoded data removed]",
      "text/plain": [
       "<Figure size 432x288 with 1 Axes>"
      ]
     },
     "metadata": {
      "needs_background": "light"
     },
     "output_type": "display_data"
    }
   ],
   "source": [
    "def function(X,d,k=0):\n",
    "    X1 = X.copy()\n",
    "    tranX =X1.copy().T\n",
    "    averageX=[]\n",
    "    stdX=[]\n",
    "    for t in tranX:\n",
    "        averageX.append(np.mean(t))\n",
    "        stdX.append(np.std(t))\n",
    "    if (k==0):\n",
    "        for x in X1:\n",
    "            i = 0\n",
    "            while i <= d-1:\n",
    "                x[i]=(x[i]-averageX[i])/stdX[i]\n",
    "                i+=1\n",
    "    else:\n",
    "        for i in range(len(X1)):\n",
    "            if stdX[i]==0:\n",
    "                X1[i]=0\n",
    "    return X1\n",
    "\n",
    "newX = np.random.multivariate_normal(mean=[1, 2], cov=[[2, 1], [1, 3]])\n",
    "d = random.randrange(2,6,1)\n",
    "N = random.randrange(2,10,1)\n",
    "X = np.random.uniform(0,100,size=(N,d))\n",
    "X1 = function(X,d)\n",
    "newX1 = function(newX, 2, 1)\n",
    "\n",
    "fig, ax = plt.subplots()\n",
    "s=1\n",
    "\n",
    "if d == 2:\n",
    "    plt.scatter(X[0][0],X[0][1],  color='red', label='изначальные точки первой матрицы')\n",
    "    ax.scatter(X1[1][0],X1[1][1],  color='blue',label='выходные точки первой матрицы')\n",
    "    while s < X.shape[0]:  \n",
    "            plt.scatter(X[s][0],X[s][1],  color='red')\n",
    "            ax.scatter(X1[s][0],X1[s][1],  color='blue')\n",
    "            s+=1\n",
    "    plt.plot(newX[0],newX[0],'go', color='yellow', label='изначальные точки второй матрицы')\n",
    "    ax.plot(newX1[0],newX1[0],'go', color='green', label='выходные точки второй матрицы')\n",
    "    plt.legend()\n",
    "plt.show()"
   ]
  }
 ],
 "metadata": {
  "kernelspec": {
   "display_name": "Python 3",
   "language": "python",
   "name": "python3"
  },
  "language_info": {
   "codemirror_mode": {
    "name": "ipython",
    "version": 3
   },
   "file_extension": ".py",
   "mimetype": "text/x-python",
   "name": "python",
   "nbconvert_exporter": "python",
   "pygments_lexer": "ipython3",
   "version": "3.7.6"
  }
 },
 "nbformat": 4,
 "nbformat_minor": 4
}
