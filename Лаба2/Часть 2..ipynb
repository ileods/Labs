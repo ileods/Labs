{
 "cells": [
  {
   "cell_type": "code",
   "execution_count": 2,
   "metadata": {},
   "outputs": [],
   "source": [
    "import pandas as pd\n",
    "import matplotlib.pyplot as plt\n",
    "from matplotlib.colors import ListedColormap\n",
    "import numpy as np\n",
    "from sklearn.linear_model import LinearRegression, LogisticRegression\n",
    "from sklearn.model_selection import train_test_split\n",
    "from sklearn.metrics import r2_score, mean_squared_error, accuracy_score\n",
    "from sklearn.discriminant_analysis import QuadraticDiscriminantAnalysis"
   ]
  },
  {
   "cell_type": "markdown",
   "metadata": {},
   "source": [
    "№2"
   ]
  },
  {
   "cell_type": "code",
   "execution_count": 3,
   "metadata": {},
   "outputs": [],
   "source": [
    "ccpp_df = pd.read_excel('CCPP.xlsx')"
   ]
  },
  {
   "cell_type": "code",
   "execution_count": 4,
   "metadata": {},
   "outputs": [
    {
     "data": {
      "text/html": [
       "<div>\n",
       "<style scoped>\n",
       "    .dataframe tbody tr th:only-of-type {\n",
       "        vertical-align: middle;\n",
       "    }\n",
       "\n",
       "    .dataframe tbody tr th {\n",
       "        vertical-align: top;\n",
       "    }\n",
       "\n",
       "    .dataframe thead th {\n",
       "        text-align: right;\n",
       "    }\n",
       "</style>\n",
       "<table border=\"1\" class=\"dataframe\">\n",
       "  <thead>\n",
       "    <tr style=\"text-align: right;\">\n",
       "      <th></th>\n",
       "      <th>AT</th>\n",
       "      <th>V</th>\n",
       "      <th>AP</th>\n",
       "      <th>RH</th>\n",
       "      <th>PE</th>\n",
       "    </tr>\n",
       "  </thead>\n",
       "  <tbody>\n",
       "    <tr>\n",
       "      <th>0</th>\n",
       "      <td>14.96</td>\n",
       "      <td>41.76</td>\n",
       "      <td>1024.07</td>\n",
       "      <td>73.17</td>\n",
       "      <td>463.26</td>\n",
       "    </tr>\n",
       "    <tr>\n",
       "      <th>1</th>\n",
       "      <td>25.18</td>\n",
       "      <td>62.96</td>\n",
       "      <td>1020.04</td>\n",
       "      <td>59.08</td>\n",
       "      <td>444.37</td>\n",
       "    </tr>\n",
       "    <tr>\n",
       "      <th>2</th>\n",
       "      <td>5.11</td>\n",
       "      <td>39.40</td>\n",
       "      <td>1012.16</td>\n",
       "      <td>92.14</td>\n",
       "      <td>488.56</td>\n",
       "    </tr>\n",
       "    <tr>\n",
       "      <th>3</th>\n",
       "      <td>20.86</td>\n",
       "      <td>57.32</td>\n",
       "      <td>1010.24</td>\n",
       "      <td>76.64</td>\n",
       "      <td>446.48</td>\n",
       "    </tr>\n",
       "    <tr>\n",
       "      <th>4</th>\n",
       "      <td>10.82</td>\n",
       "      <td>37.50</td>\n",
       "      <td>1009.23</td>\n",
       "      <td>96.62</td>\n",
       "      <td>473.90</td>\n",
       "    </tr>\n",
       "    <tr>\n",
       "      <th>...</th>\n",
       "      <td>...</td>\n",
       "      <td>...</td>\n",
       "      <td>...</td>\n",
       "      <td>...</td>\n",
       "      <td>...</td>\n",
       "    </tr>\n",
       "    <tr>\n",
       "      <th>9563</th>\n",
       "      <td>16.65</td>\n",
       "      <td>49.69</td>\n",
       "      <td>1014.01</td>\n",
       "      <td>91.00</td>\n",
       "      <td>460.03</td>\n",
       "    </tr>\n",
       "    <tr>\n",
       "      <th>9564</th>\n",
       "      <td>13.19</td>\n",
       "      <td>39.18</td>\n",
       "      <td>1023.67</td>\n",
       "      <td>66.78</td>\n",
       "      <td>469.62</td>\n",
       "    </tr>\n",
       "    <tr>\n",
       "      <th>9565</th>\n",
       "      <td>31.32</td>\n",
       "      <td>74.33</td>\n",
       "      <td>1012.92</td>\n",
       "      <td>36.48</td>\n",
       "      <td>429.57</td>\n",
       "    </tr>\n",
       "    <tr>\n",
       "      <th>9566</th>\n",
       "      <td>24.48</td>\n",
       "      <td>69.45</td>\n",
       "      <td>1013.86</td>\n",
       "      <td>62.39</td>\n",
       "      <td>435.74</td>\n",
       "    </tr>\n",
       "    <tr>\n",
       "      <th>9567</th>\n",
       "      <td>21.60</td>\n",
       "      <td>62.52</td>\n",
       "      <td>1017.23</td>\n",
       "      <td>67.87</td>\n",
       "      <td>453.28</td>\n",
       "    </tr>\n",
       "  </tbody>\n",
       "</table>\n",
       "<p>9568 rows × 5 columns</p>\n",
       "</div>"
      ],
      "text/plain": [
       "         AT      V       AP     RH      PE\n",
       "0     14.96  41.76  1024.07  73.17  463.26\n",
       "1     25.18  62.96  1020.04  59.08  444.37\n",
       "2      5.11  39.40  1012.16  92.14  488.56\n",
       "3     20.86  57.32  1010.24  76.64  446.48\n",
       "4     10.82  37.50  1009.23  96.62  473.90\n",
       "...     ...    ...      ...    ...     ...\n",
       "9563  16.65  49.69  1014.01  91.00  460.03\n",
       "9564  13.19  39.18  1023.67  66.78  469.62\n",
       "9565  31.32  74.33  1012.92  36.48  429.57\n",
       "9566  24.48  69.45  1013.86  62.39  435.74\n",
       "9567  21.60  62.52  1017.23  67.87  453.28\n",
       "\n",
       "[9568 rows x 5 columns]"
      ]
     },
     "execution_count": 4,
     "metadata": {},
     "output_type": "execute_result"
    }
   ],
   "source": [
    "ccpp_df"
   ]
  },
  {
   "cell_type": "code",
   "execution_count": 5,
   "metadata": {},
   "outputs": [],
   "source": [
    "ccpp_train_val, ccpp_test = train_test_split(ccpp_df, test_size=0.1)\n",
    "ccpp_train, ccpp_val = train_test_split(ccpp_train_val, test_size=0.1)"
   ]
  },
  {
   "cell_type": "code",
   "execution_count": 6,
   "metadata": {
    "scrolled": true
   },
   "outputs": [
    {
     "data": {
      "text/plain": [
       "(8611, 5)"
      ]
     },
     "execution_count": 6,
     "metadata": {},
     "output_type": "execute_result"
    }
   ],
   "source": [
    "ccpp_train_val.shape"
   ]
  },
  {
   "cell_type": "code",
   "execution_count": 7,
   "metadata": {},
   "outputs": [
    {
     "data": {
      "text/plain": [
       "(957, 5)"
      ]
     },
     "execution_count": 7,
     "metadata": {},
     "output_type": "execute_result"
    }
   ],
   "source": [
    "ccpp_test.shape"
   ]
  },
  {
   "cell_type": "code",
   "execution_count": 8,
   "metadata": {},
   "outputs": [
    {
     "data": {
      "text/plain": [
       "(7749, 5)"
      ]
     },
     "execution_count": 8,
     "metadata": {},
     "output_type": "execute_result"
    }
   ],
   "source": [
    "ccpp_train.shape"
   ]
  },
  {
   "cell_type": "code",
   "execution_count": 9,
   "metadata": {},
   "outputs": [
    {
     "data": {
      "text/plain": [
       "(862, 5)"
      ]
     },
     "execution_count": 9,
     "metadata": {},
     "output_type": "execute_result"
    }
   ],
   "source": [
    "ccpp_val.shape"
   ]
  },
  {
   "cell_type": "code",
   "execution_count": 10,
   "metadata": {},
   "outputs": [],
   "source": [
    "lin_reg = LinearRegression()\n",
    "X_train = ccpp_train.drop('PE',axis=1)\n",
    "y_train = ccpp_train['PE']\n",
    "X_val = ccpp_val.drop('PE',axis=1)\n",
    "y_val = ccpp_val['PE']"
   ]
  },
  {
   "cell_type": "code",
   "execution_count": 11,
   "metadata": {},
   "outputs": [
    {
     "data": {
      "text/plain": [
       "LinearRegression(copy_X=True, fit_intercept=True, n_jobs=None, normalize=False)"
      ]
     },
     "execution_count": 11,
     "metadata": {},
     "output_type": "execute_result"
    }
   ],
   "source": [
    "lin_reg.fit(X_train, y_train)"
   ]
  },
  {
   "cell_type": "code",
   "execution_count": 12,
   "metadata": {},
   "outputs": [],
   "source": [
    "predictions_array = lin_reg.predict(X_val)"
   ]
  },
  {
   "cell_type": "code",
   "execution_count": 13,
   "metadata": {},
   "outputs": [
    {
     "data": {
      "text/plain": [
       "0.9359618658073707"
      ]
     },
     "execution_count": 13,
     "metadata": {},
     "output_type": "execute_result"
    }
   ],
   "source": [
    "r2_score(y_val, predictions_array)"
   ]
  },
  {
   "cell_type": "code",
   "execution_count": 14,
   "metadata": {},
   "outputs": [
    {
     "data": {
      "text/plain": [
       "19.171351781637842"
      ]
     },
     "execution_count": 14,
     "metadata": {},
     "output_type": "execute_result"
    }
   ],
   "source": [
    "mean_squared_error(y_val, predictions_array)"
   ]
  },
  {
   "cell_type": "code",
   "execution_count": 15,
   "metadata": {},
   "outputs": [
    {
     "data": {
      "text/plain": [
       "[<matplotlib.lines.Line2D at 0x1d0b2a6bf48>]"
      ]
     },
     "execution_count": 15,
     "metadata": {},
     "output_type": "execute_result"
    },
    {
     "data": {
      "image/png": "[encoded data removed]",
      "text/plain": [
       "<Figure size 432x288 with 1 Axes>"
      ]
     },
     "metadata": {
      "needs_background": "light"
     },
     "output_type": "display_data"
    }
   ],
   "source": [
    "plt.gca().set(xlim = (420, 500),ylim = (420, 500), xlabel='Наблюдение', ylabel='Оценка')\n",
    "plt.scatter(y_val, predictions_array, s = 1)\n",
    "plt.plot(np.linspace(420,500),np.linspace(420,500), c = 'black')"
   ]
  },
  {
   "cell_type": "markdown",
   "metadata": {},
   "source": [
    "№1"
   ]
  },
  {
   "cell_type": "code",
   "execution_count": 16,
   "metadata": {},
   "outputs": [],
   "source": [
    "davis_df = pd.read_csv('Davis.csv')"
   ]
  },
  {
   "cell_type": "code",
   "execution_count": 17,
   "metadata": {},
   "outputs": [
    {
     "data": {
      "text/html": [
       "<div>\n",
       "<style scoped>\n",
       "    .dataframe tbody tr th:only-of-type {\n",
       "        vertical-align: middle;\n",
       "    }\n",
       "\n",
       "    .dataframe tbody tr th {\n",
       "        vertical-align: top;\n",
       "    }\n",
       "\n",
       "    .dataframe thead th {\n",
       "        text-align: right;\n",
       "    }\n",
       "</style>\n",
       "<table border=\"1\" class=\"dataframe\">\n",
       "  <thead>\n",
       "    <tr style=\"text-align: right;\">\n",
       "      <th></th>\n",
       "      <th>Unnamed: 0</th>\n",
       "      <th>sex</th>\n",
       "      <th>weight</th>\n",
       "      <th>height</th>\n",
       "      <th>repwt</th>\n",
       "      <th>repht</th>\n",
       "    </tr>\n",
       "  </thead>\n",
       "  <tbody>\n",
       "    <tr>\n",
       "      <th>0</th>\n",
       "      <td>1</td>\n",
       "      <td>M</td>\n",
       "      <td>77</td>\n",
       "      <td>182</td>\n",
       "      <td>77.0</td>\n",
       "      <td>180.0</td>\n",
       "    </tr>\n",
       "    <tr>\n",
       "      <th>1</th>\n",
       "      <td>2</td>\n",
       "      <td>F</td>\n",
       "      <td>58</td>\n",
       "      <td>161</td>\n",
       "      <td>51.0</td>\n",
       "      <td>159.0</td>\n",
       "    </tr>\n",
       "    <tr>\n",
       "      <th>2</th>\n",
       "      <td>3</td>\n",
       "      <td>F</td>\n",
       "      <td>53</td>\n",
       "      <td>161</td>\n",
       "      <td>54.0</td>\n",
       "      <td>158.0</td>\n",
       "    </tr>\n",
       "    <tr>\n",
       "      <th>3</th>\n",
       "      <td>4</td>\n",
       "      <td>M</td>\n",
       "      <td>68</td>\n",
       "      <td>177</td>\n",
       "      <td>70.0</td>\n",
       "      <td>175.0</td>\n",
       "    </tr>\n",
       "    <tr>\n",
       "      <th>4</th>\n",
       "      <td>5</td>\n",
       "      <td>F</td>\n",
       "      <td>59</td>\n",
       "      <td>157</td>\n",
       "      <td>59.0</td>\n",
       "      <td>155.0</td>\n",
       "    </tr>\n",
       "    <tr>\n",
       "      <th>...</th>\n",
       "      <td>...</td>\n",
       "      <td>...</td>\n",
       "      <td>...</td>\n",
       "      <td>...</td>\n",
       "      <td>...</td>\n",
       "      <td>...</td>\n",
       "    </tr>\n",
       "    <tr>\n",
       "      <th>195</th>\n",
       "      <td>196</td>\n",
       "      <td>M</td>\n",
       "      <td>74</td>\n",
       "      <td>175</td>\n",
       "      <td>71.0</td>\n",
       "      <td>175.0</td>\n",
       "    </tr>\n",
       "    <tr>\n",
       "      <th>196</th>\n",
       "      <td>197</td>\n",
       "      <td>M</td>\n",
       "      <td>83</td>\n",
       "      <td>180</td>\n",
       "      <td>80.0</td>\n",
       "      <td>180.0</td>\n",
       "    </tr>\n",
       "    <tr>\n",
       "      <th>197</th>\n",
       "      <td>198</td>\n",
       "      <td>M</td>\n",
       "      <td>81</td>\n",
       "      <td>175</td>\n",
       "      <td>NaN</td>\n",
       "      <td>NaN</td>\n",
       "    </tr>\n",
       "    <tr>\n",
       "      <th>198</th>\n",
       "      <td>199</td>\n",
       "      <td>M</td>\n",
       "      <td>90</td>\n",
       "      <td>181</td>\n",
       "      <td>91.0</td>\n",
       "      <td>178.0</td>\n",
       "    </tr>\n",
       "    <tr>\n",
       "      <th>199</th>\n",
       "      <td>200</td>\n",
       "      <td>M</td>\n",
       "      <td>79</td>\n",
       "      <td>177</td>\n",
       "      <td>81.0</td>\n",
       "      <td>178.0</td>\n",
       "    </tr>\n",
       "  </tbody>\n",
       "</table>\n",
       "<p>200 rows × 6 columns</p>\n",
       "</div>"
      ],
      "text/plain": [
       "     Unnamed: 0 sex  weight  height  repwt  repht\n",
       "0             1   M      77     182   77.0  180.0\n",
       "1             2   F      58     161   51.0  159.0\n",
       "2             3   F      53     161   54.0  158.0\n",
       "3             4   M      68     177   70.0  175.0\n",
       "4             5   F      59     157   59.0  155.0\n",
       "..          ...  ..     ...     ...    ...    ...\n",
       "195         196   M      74     175   71.0  175.0\n",
       "196         197   M      83     180   80.0  180.0\n",
       "197         198   M      81     175    NaN    NaN\n",
       "198         199   M      90     181   91.0  178.0\n",
       "199         200   M      79     177   81.0  178.0\n",
       "\n",
       "[200 rows x 6 columns]"
      ]
     },
     "execution_count": 17,
     "metadata": {},
     "output_type": "execute_result"
    }
   ],
   "source": [
    "davis_df"
   ]
  },
  {
   "cell_type": "code",
   "execution_count": 18,
   "metadata": {},
   "outputs": [],
   "source": [
    "davis_df = davis_df.drop('Unnamed: 0',axis=1)\n",
    "davis_df = davis_df.dropna(axis=0)\n",
    "davis_df = davis_df.loc[davis_df['weight'] > 30]\n",
    "davis_df = davis_df.loc[davis_df['height'] > 130]\n",
    "davis_df = pd.get_dummies(davis_df, columns=['sex'])\n",
    "davis_df = davis_df.rename(columns={'sex_F': 'sex'})\n",
    "davis_df = davis_df.drop('sex_M',axis=1)"
   ]
  },
  {
   "cell_type": "markdown",
   "metadata": {},
   "source": [
    "1 - Female, 0 - Male"
   ]
  },
  {
   "cell_type": "code",
   "execution_count": 19,
   "metadata": {},
   "outputs": [
    {
     "data": {
      "text/html": [
       "<div>\n",
       "<style scoped>\n",
       "    .dataframe tbody tr th:only-of-type {\n",
       "        vertical-align: middle;\n",
       "    }\n",
       "\n",
       "    .dataframe tbody tr th {\n",
       "        vertical-align: top;\n",
       "    }\n",
       "\n",
       "    .dataframe thead th {\n",
       "        text-align: right;\n",
       "    }\n",
       "</style>\n",
       "<table border=\"1\" class=\"dataframe\">\n",
       "  <thead>\n",
       "    <tr style=\"text-align: right;\">\n",
       "      <th></th>\n",
       "      <th>weight</th>\n",
       "      <th>height</th>\n",
       "      <th>repwt</th>\n",
       "      <th>repht</th>\n",
       "      <th>sex</th>\n",
       "    </tr>\n",
       "  </thead>\n",
       "  <tbody>\n",
       "    <tr>\n",
       "      <th>0</th>\n",
       "      <td>77</td>\n",
       "      <td>182</td>\n",
       "      <td>77.0</td>\n",
       "      <td>180.0</td>\n",
       "      <td>0</td>\n",
       "    </tr>\n",
       "    <tr>\n",
       "      <th>1</th>\n",
       "      <td>58</td>\n",
       "      <td>161</td>\n",
       "      <td>51.0</td>\n",
       "      <td>159.0</td>\n",
       "      <td>1</td>\n",
       "    </tr>\n",
       "    <tr>\n",
       "      <th>2</th>\n",
       "      <td>53</td>\n",
       "      <td>161</td>\n",
       "      <td>54.0</td>\n",
       "      <td>158.0</td>\n",
       "      <td>1</td>\n",
       "    </tr>\n",
       "    <tr>\n",
       "      <th>3</th>\n",
       "      <td>68</td>\n",
       "      <td>177</td>\n",
       "      <td>70.0</td>\n",
       "      <td>175.0</td>\n",
       "      <td>0</td>\n",
       "    </tr>\n",
       "    <tr>\n",
       "      <th>4</th>\n",
       "      <td>59</td>\n",
       "      <td>157</td>\n",
       "      <td>59.0</td>\n",
       "      <td>155.0</td>\n",
       "      <td>1</td>\n",
       "    </tr>\n",
       "    <tr>\n",
       "      <th>...</th>\n",
       "      <td>...</td>\n",
       "      <td>...</td>\n",
       "      <td>...</td>\n",
       "      <td>...</td>\n",
       "      <td>...</td>\n",
       "    </tr>\n",
       "    <tr>\n",
       "      <th>194</th>\n",
       "      <td>62</td>\n",
       "      <td>164</td>\n",
       "      <td>61.0</td>\n",
       "      <td>161.0</td>\n",
       "      <td>1</td>\n",
       "    </tr>\n",
       "    <tr>\n",
       "      <th>195</th>\n",
       "      <td>74</td>\n",
       "      <td>175</td>\n",
       "      <td>71.0</td>\n",
       "      <td>175.0</td>\n",
       "      <td>0</td>\n",
       "    </tr>\n",
       "    <tr>\n",
       "      <th>196</th>\n",
       "      <td>83</td>\n",
       "      <td>180</td>\n",
       "      <td>80.0</td>\n",
       "      <td>180.0</td>\n",
       "      <td>0</td>\n",
       "    </tr>\n",
       "    <tr>\n",
       "      <th>198</th>\n",
       "      <td>90</td>\n",
       "      <td>181</td>\n",
       "      <td>91.0</td>\n",
       "      <td>178.0</td>\n",
       "      <td>0</td>\n",
       "    </tr>\n",
       "    <tr>\n",
       "      <th>199</th>\n",
       "      <td>79</td>\n",
       "      <td>177</td>\n",
       "      <td>81.0</td>\n",
       "      <td>178.0</td>\n",
       "      <td>0</td>\n",
       "    </tr>\n",
       "  </tbody>\n",
       "</table>\n",
       "<p>180 rows × 5 columns</p>\n",
       "</div>"
      ],
      "text/plain": [
       "     weight  height  repwt  repht  sex\n",
       "0        77     182   77.0  180.0    0\n",
       "1        58     161   51.0  159.0    1\n",
       "2        53     161   54.0  158.0    1\n",
       "3        68     177   70.0  175.0    0\n",
       "4        59     157   59.0  155.0    1\n",
       "..      ...     ...    ...    ...  ...\n",
       "194      62     164   61.0  161.0    1\n",
       "195      74     175   71.0  175.0    0\n",
       "196      83     180   80.0  180.0    0\n",
       "198      90     181   91.0  178.0    0\n",
       "199      79     177   81.0  178.0    0\n",
       "\n",
       "[180 rows x 5 columns]"
      ]
     },
     "execution_count": 19,
     "metadata": {},
     "output_type": "execute_result"
    }
   ],
   "source": [
    "davis_df"
   ]
  },
  {
   "cell_type": "code",
   "execution_count": 20,
   "metadata": {},
   "outputs": [],
   "source": [
    "davis_train_val, davis_test = train_test_split(davis_df, test_size = 50, stratify = davis_df['sex'])\n",
    "davis_train, davis_val = train_test_split(davis_train_val, test_size=0.1)"
   ]
  },
  {
   "cell_type": "code",
   "execution_count": 21,
   "metadata": {},
   "outputs": [
    {
     "data": {
      "text/html": [
       "<div>\n",
       "<style scoped>\n",
       "    .dataframe tbody tr th:only-of-type {\n",
       "        vertical-align: middle;\n",
       "    }\n",
       "\n",
       "    .dataframe tbody tr th {\n",
       "        vertical-align: top;\n",
       "    }\n",
       "\n",
       "    .dataframe thead th {\n",
       "        text-align: right;\n",
       "    }\n",
       "</style>\n",
       "<table border=\"1\" class=\"dataframe\">\n",
       "  <thead>\n",
       "    <tr style=\"text-align: right;\">\n",
       "      <th></th>\n",
       "      <th>weight</th>\n",
       "      <th>height</th>\n",
       "      <th>repwt</th>\n",
       "      <th>repht</th>\n",
       "      <th>sex</th>\n",
       "    </tr>\n",
       "  </thead>\n",
       "  <tbody>\n",
       "    <tr>\n",
       "      <th>162</th>\n",
       "      <td>53</td>\n",
       "      <td>162</td>\n",
       "      <td>52.0</td>\n",
       "      <td>158.0</td>\n",
       "      <td>1</td>\n",
       "    </tr>\n",
       "    <tr>\n",
       "      <th>92</th>\n",
       "      <td>84</td>\n",
       "      <td>184</td>\n",
       "      <td>86.0</td>\n",
       "      <td>183.0</td>\n",
       "      <td>0</td>\n",
       "    </tr>\n",
       "    <tr>\n",
       "      <th>72</th>\n",
       "      <td>55</td>\n",
       "      <td>165</td>\n",
       "      <td>54.0</td>\n",
       "      <td>163.0</td>\n",
       "      <td>1</td>\n",
       "    </tr>\n",
       "    <tr>\n",
       "      <th>174</th>\n",
       "      <td>62</td>\n",
       "      <td>168</td>\n",
       "      <td>64.0</td>\n",
       "      <td>168.0</td>\n",
       "      <td>0</td>\n",
       "    </tr>\n",
       "    <tr>\n",
       "      <th>149</th>\n",
       "      <td>88</td>\n",
       "      <td>184</td>\n",
       "      <td>86.0</td>\n",
       "      <td>183.0</td>\n",
       "      <td>0</td>\n",
       "    </tr>\n",
       "    <tr>\n",
       "      <th>123</th>\n",
       "      <td>55</td>\n",
       "      <td>165</td>\n",
       "      <td>55.0</td>\n",
       "      <td>163.0</td>\n",
       "      <td>1</td>\n",
       "    </tr>\n",
       "    <tr>\n",
       "      <th>7</th>\n",
       "      <td>69</td>\n",
       "      <td>186</td>\n",
       "      <td>73.0</td>\n",
       "      <td>180.0</td>\n",
       "      <td>0</td>\n",
       "    </tr>\n",
       "    <tr>\n",
       "      <th>70</th>\n",
       "      <td>62</td>\n",
       "      <td>175</td>\n",
       "      <td>61.0</td>\n",
       "      <td>171.0</td>\n",
       "      <td>1</td>\n",
       "    </tr>\n",
       "    <tr>\n",
       "      <th>160</th>\n",
       "      <td>51</td>\n",
       "      <td>163</td>\n",
       "      <td>50.0</td>\n",
       "      <td>160.0</td>\n",
       "      <td>1</td>\n",
       "    </tr>\n",
       "    <tr>\n",
       "      <th>145</th>\n",
       "      <td>55</td>\n",
       "      <td>160</td>\n",
       "      <td>55.0</td>\n",
       "      <td>155.0</td>\n",
       "      <td>1</td>\n",
       "    </tr>\n",
       "    <tr>\n",
       "      <th>6</th>\n",
       "      <td>76</td>\n",
       "      <td>167</td>\n",
       "      <td>77.0</td>\n",
       "      <td>165.0</td>\n",
       "      <td>0</td>\n",
       "    </tr>\n",
       "    <tr>\n",
       "      <th>186</th>\n",
       "      <td>60</td>\n",
       "      <td>172</td>\n",
       "      <td>55.0</td>\n",
       "      <td>168.0</td>\n",
       "      <td>1</td>\n",
       "    </tr>\n",
       "    <tr>\n",
       "      <th>62</th>\n",
       "      <td>71</td>\n",
       "      <td>180</td>\n",
       "      <td>76.0</td>\n",
       "      <td>175.0</td>\n",
       "      <td>0</td>\n",
       "    </tr>\n",
       "    <tr>\n",
       "      <th>78</th>\n",
       "      <td>69</td>\n",
       "      <td>182</td>\n",
       "      <td>70.0</td>\n",
       "      <td>180.0</td>\n",
       "      <td>0</td>\n",
       "    </tr>\n",
       "    <tr>\n",
       "      <th>108</th>\n",
       "      <td>64</td>\n",
       "      <td>166</td>\n",
       "      <td>64.0</td>\n",
       "      <td>165.0</td>\n",
       "      <td>1</td>\n",
       "    </tr>\n",
       "    <tr>\n",
       "      <th>27</th>\n",
       "      <td>58</td>\n",
       "      <td>166</td>\n",
       "      <td>60.0</td>\n",
       "      <td>160.0</td>\n",
       "      <td>1</td>\n",
       "    </tr>\n",
       "    <tr>\n",
       "      <th>4</th>\n",
       "      <td>59</td>\n",
       "      <td>157</td>\n",
       "      <td>59.0</td>\n",
       "      <td>155.0</td>\n",
       "      <td>1</td>\n",
       "    </tr>\n",
       "    <tr>\n",
       "      <th>146</th>\n",
       "      <td>55</td>\n",
       "      <td>165</td>\n",
       "      <td>55.0</td>\n",
       "      <td>165.0</td>\n",
       "      <td>1</td>\n",
       "    </tr>\n",
       "    <tr>\n",
       "      <th>84</th>\n",
       "      <td>56</td>\n",
       "      <td>170</td>\n",
       "      <td>56.0</td>\n",
       "      <td>170.0</td>\n",
       "      <td>1</td>\n",
       "    </tr>\n",
       "    <tr>\n",
       "      <th>89</th>\n",
       "      <td>57</td>\n",
       "      <td>162</td>\n",
       "      <td>56.0</td>\n",
       "      <td>160.0</td>\n",
       "      <td>1</td>\n",
       "    </tr>\n",
       "    <tr>\n",
       "      <th>88</th>\n",
       "      <td>57</td>\n",
       "      <td>163</td>\n",
       "      <td>59.0</td>\n",
       "      <td>160.0</td>\n",
       "      <td>1</td>\n",
       "    </tr>\n",
       "    <tr>\n",
       "      <th>33</th>\n",
       "      <td>52</td>\n",
       "      <td>164</td>\n",
       "      <td>52.0</td>\n",
       "      <td>161.0</td>\n",
       "      <td>1</td>\n",
       "    </tr>\n",
       "    <tr>\n",
       "      <th>178</th>\n",
       "      <td>81</td>\n",
       "      <td>178</td>\n",
       "      <td>82.0</td>\n",
       "      <td>175.0</td>\n",
       "      <td>0</td>\n",
       "    </tr>\n",
       "    <tr>\n",
       "      <th>42</th>\n",
       "      <td>63</td>\n",
       "      <td>163</td>\n",
       "      <td>59.0</td>\n",
       "      <td>159.0</td>\n",
       "      <td>1</td>\n",
       "    </tr>\n",
       "    <tr>\n",
       "      <th>177</th>\n",
       "      <td>66</td>\n",
       "      <td>170</td>\n",
       "      <td>67.0</td>\n",
       "      <td>165.0</td>\n",
       "      <td>0</td>\n",
       "    </tr>\n",
       "    <tr>\n",
       "      <th>80</th>\n",
       "      <td>61</td>\n",
       "      <td>165</td>\n",
       "      <td>60.0</td>\n",
       "      <td>163.0</td>\n",
       "      <td>1</td>\n",
       "    </tr>\n",
       "    <tr>\n",
       "      <th>8</th>\n",
       "      <td>71</td>\n",
       "      <td>178</td>\n",
       "      <td>71.0</td>\n",
       "      <td>175.0</td>\n",
       "      <td>0</td>\n",
       "    </tr>\n",
       "    <tr>\n",
       "      <th>165</th>\n",
       "      <td>59</td>\n",
       "      <td>159</td>\n",
       "      <td>59.0</td>\n",
       "      <td>155.0</td>\n",
       "      <td>1</td>\n",
       "    </tr>\n",
       "    <tr>\n",
       "      <th>144</th>\n",
       "      <td>64</td>\n",
       "      <td>171</td>\n",
       "      <td>66.0</td>\n",
       "      <td>171.0</td>\n",
       "      <td>1</td>\n",
       "    </tr>\n",
       "    <tr>\n",
       "      <th>103</th>\n",
       "      <td>45</td>\n",
       "      <td>163</td>\n",
       "      <td>45.0</td>\n",
       "      <td>160.0</td>\n",
       "      <td>1</td>\n",
       "    </tr>\n",
       "    <tr>\n",
       "      <th>120</th>\n",
       "      <td>78</td>\n",
       "      <td>178</td>\n",
       "      <td>77.0</td>\n",
       "      <td>175.0</td>\n",
       "      <td>0</td>\n",
       "    </tr>\n",
       "    <tr>\n",
       "      <th>102</th>\n",
       "      <td>47</td>\n",
       "      <td>163</td>\n",
       "      <td>47.0</td>\n",
       "      <td>160.0</td>\n",
       "      <td>1</td>\n",
       "    </tr>\n",
       "    <tr>\n",
       "      <th>175</th>\n",
       "      <td>71</td>\n",
       "      <td>178</td>\n",
       "      <td>68.0</td>\n",
       "      <td>178.0</td>\n",
       "      <td>0</td>\n",
       "    </tr>\n",
       "    <tr>\n",
       "      <th>147</th>\n",
       "      <td>59</td>\n",
       "      <td>157</td>\n",
       "      <td>55.0</td>\n",
       "      <td>158.0</td>\n",
       "      <td>1</td>\n",
       "    </tr>\n",
       "    <tr>\n",
       "      <th>107</th>\n",
       "      <td>57</td>\n",
       "      <td>167</td>\n",
       "      <td>55.0</td>\n",
       "      <td>164.0</td>\n",
       "      <td>1</td>\n",
       "    </tr>\n",
       "    <tr>\n",
       "      <th>18</th>\n",
       "      <td>76</td>\n",
       "      <td>197</td>\n",
       "      <td>75.0</td>\n",
       "      <td>200.0</td>\n",
       "      <td>0</td>\n",
       "    </tr>\n",
       "    <tr>\n",
       "      <th>140</th>\n",
       "      <td>66</td>\n",
       "      <td>175</td>\n",
       "      <td>68.0</td>\n",
       "      <td>175.0</td>\n",
       "      <td>0</td>\n",
       "    </tr>\n",
       "    <tr>\n",
       "      <th>13</th>\n",
       "      <td>64</td>\n",
       "      <td>168</td>\n",
       "      <td>64.0</td>\n",
       "      <td>165.0</td>\n",
       "      <td>1</td>\n",
       "    </tr>\n",
       "    <tr>\n",
       "      <th>191</th>\n",
       "      <td>89</td>\n",
       "      <td>173</td>\n",
       "      <td>86.0</td>\n",
       "      <td>173.0</td>\n",
       "      <td>0</td>\n",
       "    </tr>\n",
       "    <tr>\n",
       "      <th>121</th>\n",
       "      <td>69</td>\n",
       "      <td>167</td>\n",
       "      <td>73.0</td>\n",
       "      <td>165.0</td>\n",
       "      <td>0</td>\n",
       "    </tr>\n",
       "    <tr>\n",
       "      <th>96</th>\n",
       "      <td>103</td>\n",
       "      <td>185</td>\n",
       "      <td>101.0</td>\n",
       "      <td>182.0</td>\n",
       "      <td>0</td>\n",
       "    </tr>\n",
       "    <tr>\n",
       "      <th>41</th>\n",
       "      <td>80</td>\n",
       "      <td>178</td>\n",
       "      <td>80.0</td>\n",
       "      <td>178.0</td>\n",
       "      <td>0</td>\n",
       "    </tr>\n",
       "    <tr>\n",
       "      <th>71</th>\n",
       "      <td>66</td>\n",
       "      <td>173</td>\n",
       "      <td>66.0</td>\n",
       "      <td>175.0</td>\n",
       "      <td>0</td>\n",
       "    </tr>\n",
       "    <tr>\n",
       "      <th>58</th>\n",
       "      <td>75</td>\n",
       "      <td>172</td>\n",
       "      <td>70.0</td>\n",
       "      <td>169.0</td>\n",
       "      <td>0</td>\n",
       "    </tr>\n",
       "    <tr>\n",
       "      <th>106</th>\n",
       "      <td>52</td>\n",
       "      <td>152</td>\n",
       "      <td>51.0</td>\n",
       "      <td>150.0</td>\n",
       "      <td>1</td>\n",
       "    </tr>\n",
       "    <tr>\n",
       "      <th>29</th>\n",
       "      <td>101</td>\n",
       "      <td>183</td>\n",
       "      <td>100.0</td>\n",
       "      <td>180.0</td>\n",
       "      <td>0</td>\n",
       "    </tr>\n",
       "    <tr>\n",
       "      <th>38</th>\n",
       "      <td>88</td>\n",
       "      <td>178</td>\n",
       "      <td>86.0</td>\n",
       "      <td>175.0</td>\n",
       "      <td>0</td>\n",
       "    </tr>\n",
       "    <tr>\n",
       "      <th>185</th>\n",
       "      <td>56</td>\n",
       "      <td>162</td>\n",
       "      <td>56.0</td>\n",
       "      <td>160.0</td>\n",
       "      <td>1</td>\n",
       "    </tr>\n",
       "    <tr>\n",
       "      <th>152</th>\n",
       "      <td>47</td>\n",
       "      <td>150</td>\n",
       "      <td>45.0</td>\n",
       "      <td>152.0</td>\n",
       "      <td>1</td>\n",
       "    </tr>\n",
       "    <tr>\n",
       "      <th>53</th>\n",
       "      <td>102</td>\n",
       "      <td>185</td>\n",
       "      <td>107.0</td>\n",
       "      <td>185.0</td>\n",
       "      <td>0</td>\n",
       "    </tr>\n",
       "  </tbody>\n",
       "</table>\n",
       "</div>"
      ],
      "text/plain": [
       "     weight  height  repwt  repht  sex\n",
       "162      53     162   52.0  158.0    1\n",
       "92       84     184   86.0  183.0    0\n",
       "72       55     165   54.0  163.0    1\n",
       "174      62     168   64.0  168.0    0\n",
       "149      88     184   86.0  183.0    0\n",
       "123      55     165   55.0  163.0    1\n",
       "7        69     186   73.0  180.0    0\n",
       "70       62     175   61.0  171.0    1\n",
       "160      51     163   50.0  160.0    1\n",
       "145      55     160   55.0  155.0    1\n",
       "6        76     167   77.0  165.0    0\n",
       "186      60     172   55.0  168.0    1\n",
       "62       71     180   76.0  175.0    0\n",
       "78       69     182   70.0  180.0    0\n",
       "108      64     166   64.0  165.0    1\n",
       "27       58     166   60.0  160.0    1\n",
       "4        59     157   59.0  155.0    1\n",
       "146      55     165   55.0  165.0    1\n",
       "84       56     170   56.0  170.0    1\n",
       "89       57     162   56.0  160.0    1\n",
       "88       57     163   59.0  160.0    1\n",
       "33       52     164   52.0  161.0    1\n",
       "178      81     178   82.0  175.0    0\n",
       "42       63     163   59.0  159.0    1\n",
       "177      66     170   67.0  165.0    0\n",
       "80       61     165   60.0  163.0    1\n",
       "8        71     178   71.0  175.0    0\n",
       "165      59     159   59.0  155.0    1\n",
       "144      64     171   66.0  171.0    1\n",
       "103      45     163   45.0  160.0    1\n",
       "120      78     178   77.0  175.0    0\n",
       "102      47     163   47.0  160.0    1\n",
       "175      71     178   68.0  178.0    0\n",
       "147      59     157   55.0  158.0    1\n",
       "107      57     167   55.0  164.0    1\n",
       "18       76     197   75.0  200.0    0\n",
       "140      66     175   68.0  175.0    0\n",
       "13       64     168   64.0  165.0    1\n",
       "191      89     173   86.0  173.0    0\n",
       "121      69     167   73.0  165.0    0\n",
       "96      103     185  101.0  182.0    0\n",
       "41       80     178   80.0  178.0    0\n",
       "71       66     173   66.0  175.0    0\n",
       "58       75     172   70.0  169.0    0\n",
       "106      52     152   51.0  150.0    1\n",
       "29      101     183  100.0  180.0    0\n",
       "38       88     178   86.0  175.0    0\n",
       "185      56     162   56.0  160.0    1\n",
       "152      47     150   45.0  152.0    1\n",
       "53      102     185  107.0  185.0    0"
      ]
     },
     "execution_count": 21,
     "metadata": {},
     "output_type": "execute_result"
    }
   ],
   "source": [
    "davis_test"
   ]
  },
  {
   "cell_type": "code",
   "execution_count": 22,
   "metadata": {},
   "outputs": [
    {
     "data": {
      "text/plain": [
       "(array([ 1.,  1.,  8., 24., 22., 17., 21.,  7.,  9.,  7.]),\n",
       " array([148. , 152.3, 156.6, 160.9, 165.2, 169.5, 173.8, 178.1, 182.4,\n",
       "        186.7, 191. ]),\n",
       " <a list of 10 Patch objects>)"
      ]
     },
     "execution_count": 22,
     "metadata": {},
     "output_type": "execute_result"
    },
    {
     "data": {
      "image/png": "[encoded data removed]",
      "text/plain": [
       "<Figure size 432x288 with 1 Axes>"
      ]
     },
     "metadata": {
      "needs_background": "light"
     },
     "output_type": "display_data"
    }
   ],
   "source": [
    "plt.gca().set(xlabel='height', ylabel='people')\n",
    "plt.hist(davis_train['height'], bins = 10, edgecolor = 'black')"
   ]
  },
  {
   "cell_type": "code",
   "execution_count": 23,
   "metadata": {
    "scrolled": false
   },
   "outputs": [
    {
     "data": {
      "text/plain": [
       "(array([ 3., 24., 27., 29., 14., 10.,  6.,  3.,  0.,  1.]),\n",
       " array([ 39.,  47.,  55.,  63.,  71.,  79.,  87.,  95., 103., 111., 119.]),\n",
       " <a list of 10 Patch objects>)"
      ]
     },
     "execution_count": 23,
     "metadata": {},
     "output_type": "execute_result"
    },
    {
     "data": {
      "image/png": "[encoded data removed]",
      "text/plain": [
       "<Figure size 432x288 with 1 Axes>"
      ]
     },
     "metadata": {
      "needs_background": "light"
     },
     "output_type": "display_data"
    }
   ],
   "source": [
    "plt.gca().set(xlabel='weight', ylabel='people')\n",
    "plt.hist(davis_train['weight'], bins = 10, edgecolor = 'black')"
   ]
  },
  {
   "cell_type": "code",
   "execution_count": 24,
   "metadata": {},
   "outputs": [
    {
     "data": {
      "text/plain": [
       "<matplotlib.legend.Legend at 0x1d0b32d5788>"
      ]
     },
     "execution_count": 24,
     "metadata": {},
     "output_type": "execute_result"
    },
    {
     "data": {
      "image/png": "[encoded data removed]",
      "text/plain": [
       "<Figure size 432x288 with 1 Axes>"
      ]
     },
     "metadata": {
      "needs_background": "light"
     },
     "output_type": "display_data"
    }
   ],
   "source": [
    "plt.gca().set(xlabel='height', ylabel='people')\n",
    "plt.hist(davis_train[davis_train['sex'] == 0]['height'], bins=10, edgecolor = 'black',  alpha = 0.9,  label ='Male')\n",
    "plt.hist(davis_train[davis_train['sex'] == 1]['height'], bins=10, edgecolor = 'black', color = 'pink',  alpha = 0.5, label ='Female')\n",
    "plt.legend()"
   ]
  },
  {
   "cell_type": "code",
   "execution_count": 25,
   "metadata": {},
   "outputs": [
    {
     "data": {
      "text/plain": [
       "<matplotlib.legend.Legend at 0x1d0b3366388>"
      ]
     },
     "execution_count": 25,
     "metadata": {},
     "output_type": "execute_result"
    },
    {
     "data": {
      "image/png": "[encoded data removed]",
      "text/plain": [
       "<Figure size 432x288 with 1 Axes>"
      ]
     },
     "metadata": {
      "needs_background": "light"
     },
     "output_type": "display_data"
    }
   ],
   "source": [
    "plt.gca().set(xlabel='weight', ylabel='people')\n",
    "plt.hist(davis_train[davis_train['sex'] == 0]['weight'], bins=10, edgecolor = 'black',  alpha = 0.9,  label ='Male')\n",
    "plt.hist(davis_train[davis_train['sex'] == 1]['weight'], bins=10, edgecolor = 'black', color = 'pink',  alpha = 0.5, label ='Female')\n",
    "plt.legend()"
   ]
  },
  {
   "cell_type": "code",
   "execution_count": 26,
   "metadata": {},
   "outputs": [],
   "source": [
    "log_reg = LogisticRegression()\n",
    "qd_a = QuadraticDiscriminantAnalysis()"
   ]
  },
  {
   "cell_type": "code",
   "execution_count": 27,
   "metadata": {},
   "outputs": [],
   "source": [
    "X_train = davis_train[['height','weight']]\n",
    "y_train = davis_train['sex']\n",
    "X_test = davis_test[['height','weight']]\n",
    "y_test = davis_test['sex']"
   ]
  },
  {
   "cell_type": "code",
   "execution_count": 28,
   "metadata": {},
   "outputs": [
    {
     "data": {
      "text/plain": [
       "QuadraticDiscriminantAnalysis(priors=None, reg_param=0.0,\n",
       "                              store_covariance=False, tol=0.0001)"
      ]
     },
     "execution_count": 28,
     "metadata": {},
     "output_type": "execute_result"
    }
   ],
   "source": [
    "log_reg.fit(X_train,y_train)\n",
    "qd_a.fit(X_train,y_train)"
   ]
  },
  {
   "cell_type": "code",
   "execution_count": 29,
   "metadata": {},
   "outputs": [],
   "source": [
    "log_pr_test = log_reg.predict(X_test)\n",
    "qda_pr_test = qd_a.predict(X_test)\n",
    "log_pr_train = log_reg.predict(X_train)\n",
    "qda_pr_train = qd_a.predict(X_train)"
   ]
  },
  {
   "cell_type": "code",
   "execution_count": 30,
   "metadata": {},
   "outputs": [
    {
     "data": {
      "text/plain": [
       "0.9"
      ]
     },
     "execution_count": 30,
     "metadata": {},
     "output_type": "execute_result"
    }
   ],
   "source": [
    "accuracy_score(log_pr_test, y_test)"
   ]
  },
  {
   "cell_type": "code",
   "execution_count": 31,
   "metadata": {},
   "outputs": [
    {
     "data": {
      "text/plain": [
       "0.9"
      ]
     },
     "execution_count": 31,
     "metadata": {},
     "output_type": "execute_result"
    }
   ],
   "source": [
    "accuracy_score(qda_pr_test, y_test)"
   ]
  },
  {
   "cell_type": "code",
   "execution_count": 32,
   "metadata": {},
   "outputs": [
    {
     "data": {
      "text/plain": [
       "0.905982905982906"
      ]
     },
     "execution_count": 32,
     "metadata": {},
     "output_type": "execute_result"
    }
   ],
   "source": [
    "accuracy_score(log_pr_train, y_train)"
   ]
  },
  {
   "cell_type": "code",
   "execution_count": 33,
   "metadata": {},
   "outputs": [
    {
     "data": {
      "text/plain": [
       "0.8803418803418803"
      ]
     },
     "execution_count": 33,
     "metadata": {},
     "output_type": "execute_result"
    }
   ],
   "source": [
    "accuracy_score(qda_pr_train, y_train)"
   ]
  },
  {
   "cell_type": "code",
   "execution_count": 34,
   "metadata": {},
   "outputs": [],
   "source": [
    "class_cmap = ListedColormap(['blue', 'pink'])"
   ]
  },
  {
   "cell_type": "code",
   "execution_count": 35,
   "metadata": {},
   "outputs": [],
   "source": [
    "x1_min_train, x1_max_train = X_train['height'].min()-0.5, X_train['height'].max()+0.5\n",
    "x2_min_train, x2_max_train = X_train['weight'].min()-0.5, X_train['weight'].max()+0.5"
   ]
  },
  {
   "cell_type": "code",
   "execution_count": 36,
   "metadata": {},
   "outputs": [],
   "source": [
    "xx1_train,xx2_train = np.mgrid[x1_min_train:x1_max_train:50j, x2_min_train:x2_max_train:50j]"
   ]
  },
  {
   "cell_type": "code",
   "execution_count": 37,
   "metadata": {},
   "outputs": [],
   "source": [
    "X_pred_train = np.column_stack([xx1_train.reshape(-1), xx2_train.reshape(-1)])"
   ]
  },
  {
   "cell_type": "markdown",
   "metadata": {},
   "source": [
    "Для логистической регрессии"
   ]
  },
  {
   "cell_type": "code",
   "execution_count": 38,
   "metadata": {},
   "outputs": [],
   "source": [
    "y_pred_train_lr = log_reg.predict(X_pred_train)"
   ]
  },
  {
   "cell_type": "code",
   "execution_count": 39,
   "metadata": {},
   "outputs": [
    {
     "data": {
      "image/png": "[encoded data removed]",
      "text/plain": [
       "<Figure size 432x288 with 1 Axes>"
      ]
     },
     "metadata": {
      "needs_background": "light"
     },
     "output_type": "display_data"
    }
   ],
   "source": [
    "plt.pcolormesh(xx1_train,xx2_train, y_pred_train_lr.reshape(xx1_train.shape), cmap=class_cmap, alpha=0.3, shading='auto')\n",
    "plt.gca().set(xlabel='height', ylabel='weight')\n",
    "plt.scatter(X_train['height'], X_train['weight'], c=y_train, cmap=class_cmap)\n",
    "plt.show()"
   ]
  },
  {
   "cell_type": "markdown",
   "metadata": {},
   "source": [
    "Для квадратичного дискриминантонго анализа"
   ]
  },
  {
   "cell_type": "code",
   "execution_count": 40,
   "metadata": {},
   "outputs": [],
   "source": [
    "y_pred_train_qda = qd_a.predict(X_pred_train)"
   ]
  },
  {
   "cell_type": "code",
   "execution_count": 41,
   "metadata": {},
   "outputs": [
    {
     "data": {
      "image/png": "[encoded data removed]",
      "text/plain": [
       "<Figure size 432x288 with 1 Axes>"
      ]
     },
     "metadata": {
      "needs_background": "light"
     },
     "output_type": "display_data"
    }
   ],
   "source": [
    "plt.pcolormesh(xx1_train,xx2_train, y_pred_train_qda.reshape(xx1_train.shape), cmap=class_cmap, alpha=0.3, shading='auto')\n",
    "plt.gca().set(xlabel='height', ylabel='weight')\n",
    "plt.scatter(X_train['height'], X_train['weight'], c=y_train, cmap=class_cmap)\n",
    "plt.show()"
   ]
  },
  {
   "cell_type": "code",
   "execution_count": 44,
   "metadata": {},
   "outputs": [],
   "source": [
    "x1_min_test, x1_max_test = X_test['height'].min()-0.5, X_test['height'].max()+0.5\n",
    "x2_min_test, x2_max_test = X_test['weight'].min()-0.5, X_test['weight'].max()+0.5"
   ]
  },
  {
   "cell_type": "code",
   "execution_count": 45,
   "metadata": {},
   "outputs": [],
   "source": [
    "xx1_test,xx2_test = np.mgrid[x1_min_test:x1_max_test:50j, x2_min_test:x2_max_test:50j]"
   ]
  },
  {
   "cell_type": "code",
   "execution_count": 46,
   "metadata": {},
   "outputs": [],
   "source": [
    "X_pred_test = np.column_stack([xx1_test.reshape(-1), xx2_test.reshape(-1)])"
   ]
  },
  {
   "cell_type": "markdown",
   "metadata": {},
   "source": [
    "Для логистической регрессии"
   ]
  },
  {
   "cell_type": "code",
   "execution_count": 47,
   "metadata": {},
   "outputs": [],
   "source": [
    "y_pred_test_lr = log_reg.predict(X_pred_test)"
   ]
  },
  {
   "cell_type": "code",
   "execution_count": 48,
   "metadata": {
    "scrolled": true
   },
   "outputs": [
    {
     "data": {
      "image/png": "[encoded data removed]",
      "text/plain": [
       "<Figure size 432x288 with 1 Axes>"
      ]
     },
     "metadata": {
      "needs_background": "light"
     },
     "output_type": "display_data"
    }
   ],
   "source": [
    "plt.pcolormesh(xx1_test,xx2_test, y_pred_test_lr.reshape(xx1_test.shape), cmap=class_cmap, alpha=0.3, shading='auto')\n",
    "plt.gca().set(xlabel='height', ylabel='weight')\n",
    "plt.scatter(X_test['height'], X_test['weight'], c=y_test, cmap=class_cmap)\n",
    "plt.show()"
   ]
  },
  {
   "cell_type": "markdown",
   "metadata": {},
   "source": [
    "Для квадратичного дискриминантонго анализа"
   ]
  },
  {
   "cell_type": "code",
   "execution_count": 49,
   "metadata": {},
   "outputs": [],
   "source": [
    "y_pred_test_qda = qd_a.predict(X_pred_test)"
   ]
  },
  {
   "cell_type": "code",
   "execution_count": 50,
   "metadata": {},
   "outputs": [
    {
     "data": {
      "image/png": "[encoded data removed]",
      "text/plain": [
       "<Figure size 432x288 with 1 Axes>"
      ]
     },
     "metadata": {
      "needs_background": "light"
     },
     "output_type": "display_data"
    }
   ],
   "source": [
    "plt.pcolormesh(xx1_test,xx2_test, y_pred_test_qda.reshape(xx1_test.shape), cmap=class_cmap, alpha=0.3, shading='auto')\n",
    "plt.gca().set(xlabel='height', ylabel='weight')\n",
    "plt.scatter(X_test['height'], X_test['weight'], c=y_test, cmap=class_cmap)\n",
    "plt.show()"
   ]
  },
  {
   "cell_type": "code",
   "execution_count": null,
   "metadata": {},
   "outputs": [],
   "source": []
  }
 ],
 "metadata": {
  "kernelspec": {
   "display_name": "Python 3",
   "language": "python",
   "name": "python3"
  },
  "language_info": {
   "codemirror_mode": {
    "name": "ipython",
    "version": 3
   },
   "file_extension": ".py",
   "mimetype": "text/x-python",
   "name": "python",
   "nbconvert_exporter": "python",
   "pygments_lexer": "ipython3",
   "version": "3.7.6"
  }
 },
 "nbformat": 4,
 "nbformat_minor": 5
}
